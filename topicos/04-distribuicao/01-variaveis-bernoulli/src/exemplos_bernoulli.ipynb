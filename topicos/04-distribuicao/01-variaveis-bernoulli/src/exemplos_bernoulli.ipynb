{
 "cells": [
  {
   "cell_type": "markdown",
   "metadata": {},
   "source": [
    "# Exemplos Práticos: Variáveis Aleatórias Discretas e Distribuição de Bernoulli\n",
    "\n",
    "Este notebook contém exemplos práticos dos conceitos abordados na documentação teórica."
   ]
  },
  {
   "cell_type": "code",
   "execution_count": null,
   "metadata": {},
   "source": [
    "import numpy as np\n",
    "import matplotlib.pyplot as plt\n",
    "from scipy.stats import bernoulli\n",
    "\n",
    "# Configuração para gráficos\n",
    "plt.style.use('default')\n",
    "plt.rcParams['figure.figsize'] = (10, 6)"
   ],
   "outputs": []
  },
  {
   "cell_type": "markdown",
   "metadata": {},
   "source": [
    "## 1. Exemplo: Distribuição Uniforme Discreta (Dado Justo)"
   ]
  },
  {
   "cell_type": "code",
   "execution_count": null,
   "metadata": {},
   "source": [
    "# Simulação de lançamento de dado\n",
    "n_simulacoes = 10000\n",
    "resultados_dado = np.random.randint(1, 7, size=n_simulacoes)\n",
    "\n",
    "# Contagem de frequências\n",
    "valores_unicos, contagens = np.unique(resultados_dado, return_counts=True)\n",
    "frequencias_relativas = contagens / n_simulacoes\n",
    "\n",
    "# Gráfico\n",
    "plt.figure(figsize=(8, 5))\n",
    "plt.bar(valores_unicos, frequencias_relativas, color='skyblue', edgecolor='black')\n",
    "plt.axhline(y=1/6, color='red', linestyle='--', label='Probabilidade teórica (1/6)')\n",
    "plt.title('Distribuição Uniforme Discreta - Lançamento de Dado')\n",
    "plt.xlabel('Resultado do Dado')\n",
    "plt.ylabel('Frequência Relativa')\n",
    "plt.legend()\n",
    "plt.grid(True, alpha=0.3)\n",
    "plt.show()\n",
    "\n",
    "print(f'Média empírica: {np.mean(resultados_dado):.4f}')\n",
    "print(f'Média teórica: {3.5:.4f}')\n",
    "print(f'Variância empírica: {np.var(resultados_dado):.4f}')\n",
    "print(f'Variância teórica: {35/12:.4f}')"
   ],
   "outputs": []
  },
  {
   "cell_type": "markdown",
   "metadata": {},
   "source": [
    "## 2. Exemplo: Distribuição de Bernoulli (Moeda Viciada)"
   ]
  },
  {
   "cell_type": "code",
   "execution_count": null,
   "metadata": {},
   "source": [
    "# Parâmetros\n",
    "p = 0.7  # Probabilidade de sucesso (cara)\n",
    "n_lancamentos = 1000\n",
    "\n",
    "# Simulação usando scipy\n",
    "resultados_bernoulli = bernoulli.rvs(p, size=n_lancamentos)\n",
    "\n",
    "# Cálculo de frequências\n",
    "freq_0 = np.sum(resultados_bernoulli == 0) / n_lancamentos\n",
    "freq_1 = np.sum(resultados_bernoulli == 1) / n_lancamentos\n",
    "\n",
    "# Gráfico\n",
    "plt.figure(figsize=(6, 5))\n",
    "valores = [0, 1]\n",
    "frequencias_empiricas = [freq_0, freq_1]\n",
    "frequencias_teoricas = [1-p, p]\n",
    "\n",
    "x = np.arange(len(valores))\n",
    "width = 0.35\n",
    "\n",
    "plt.bar(x - width/2, frequencias_empiricas, width, label='Empírica', color='lightblue')\n",
    "plt.bar(x + width/2, frequencias_teoricas, width, label='Teórica', color='orange')\n",
    "\n",
    "plt.title(f'Distribuição de Bernoulli (p = {p})')\n",
    "plt.xlabel('Resultado (0 = Coroa, 1 = Cara)')\n",
    "plt.ylabel('Probabilidade')\n",
    "plt.xticks(x, ['0 (Coroa)', '1 (Cara)'])\n",
    "plt.legend()\n",
    "plt.grid(True, alpha=0.3)\n",
    "plt.show()\n",
    "\n",
    "print(f'Frequência empírica de caras: {freq_1:.4f}')\n",
    "print(f'Probabilidade teórica de caras: {p:.4f}')"
   ],
   "outputs": []
  },
  {
   "cell_type": "markdown",
   "metadata": {},
   "source": [
    "## 3. Exemplo: Teste Médico (Aplicação de Bernoulli)"
   ]
  },
  {
   "cell_type": "code",
   "execution_count": null,
   "metadata": {},
   "source": [
    "# Cenário: Teste médico com 90% de eficácia\n",
    "p_deteccao = 0.9\n",
    "n_testes = 100\n",
    "\n",
    "# Simulação\n",
    "resultados_teste = bernoulli.rvs(p_deteccao, size=n_testes)\n",
    "\n",
    "# Estatísticas\n",
    "sucessos = np.sum(resultados_teste)\n",
    "taxa_sucesso = sucessos / n_testes\n",
    "\n",
    "# Propriedades teóricas\n",
    "media_teorica = p_deteccao\n",
    "variancia_teorica = p_deteccao * (1 - p_deteccao)\n",
    "\n",
    "print(\"=== Teste Médico - Detecção de Doença ===\")\n",
    "print(f\"Eficácia teórica do teste: {p_deteccao * 100}%\")\n",
    "print(f\"Sucessos observados: {sucessos}/{n_testes}\")\n",
    "print(f\"Taxa de sucesso empírica: {taxa_sucesso * 100:.1f}%\")\n",
    "print(f\"\\nEsperança teórica: {media_teorica:.4f}\")\n",
    "print(f\"Variância teórica: {variancia_teorica:.4f}\")\n",
    "\n",
    "# Visualização\n",
    "plt.figure(figsize=(8, 4))\n",
    "plt.hist(resultados_teste, bins=[-0.5, 0.5, 1.5], density=True, alpha=0.7, color='lightgreen', edgecolor='black')\n",
    "plt.title('Distribuição dos Resultados do Teste Médico')\n",
    "plt.xlabel('Resultado (0 = Negativo, 1 = Positivo)')\n",
    "plt.ylabel('Densidade')\n",
    "plt.xticks([0, 1], ['Negativo', 'Positivo'])\n",
    "plt.grid(True, alpha=0.3)\n",
    "plt.show()"
   ],
   "outputs": []
  },
  {
   "cell_type": "markdown",
   "metadata": {},
   "source": [
    "## 4. Comparação: Diferentes Valores de p na Distribuição de Bernoulli"
   ]
  },
  {
   "cell_type": "code",
   "execution_count": null,
   "metadata": {},
   "source": [
    "# Diferentes valores de p\n",
    "valores_p = [0.1, 0.3, 0.5, 0.7, 0.9]\n",
    "n_sim = 1000\n",
    "\n",
    "# Configuração do gráfico\n",
    "fig, axes = plt.subplots(1, len(valores_p), figsize=(15, 4))\n",
    "fig.suptitle('Distribuição de Bernoulli para Diferentes Valores de p', fontsize=16)\n",
    "\n",
    "for i, p in enumerate(valores_p):\n",
    "    # Simulação\n",
    "    resultados = bernoulli.rvs(p, size=n_sim)\n",
    "    \n",
    "    # Frequências\n",
    "    freq_0 = np.sum(resultados == 0) / n_sim\n",
    "    freq_1 = np.sum(resultados == 1) / n_sim\n",
    "    \n",
    "    # Gráfico\n",
    "    axes[i].bar([0, 1], [freq_0, freq_1], color=['lightcoral', 'lightblue'], alpha=0.7)\n",
    "    axes[i].set_title(f'p = {p}')\n",
    "    axes[i].set_xlabel('Resultado')\n",
    "    axes[i].set_ylabel('Frequência')\n",
    "    axes[i].set_ylim(0, 1)\n",
    "    axes[i].grid(True, alpha=0.3)\n",
    "    \n",
    "    # Adicionar valores teóricos como linhas\n",
    "    axes[i].axhline(y=1-p, xmin=0, xmax=0.4, color='red', linewidth=3, alpha=0.7)\n",
    "    axes[i].axhline(y=p, xmin=0.6, xmax=1, color='red', linewidth=3, alpha=0.7)\n",
    "\n",
    "plt.tight_layout()\n",
    "plt.show()\n",
    "\n",
    "# Mostrar como a variância muda\n",
    "variancias = [p * (1-p) for p in valores_p]\n",
    "plt.figure(figsize=(8, 5))\n",
    "plt.plot(valores_p, variancias, 'o-', color='purple', linewidth=2, markersize=8)\n",
    "plt.title('Variância da Distribuição de Bernoulli vs Valor de p')\n",
    "plt.xlabel('Probabilidade de Sucesso (p)')\n",
    "plt.ylabel('Variância [p(1-p)]')\n",
    "plt.grid(True, alpha=0.3)\n",
    "plt.axvline(x=0.5, color='red', linestyle='--', alpha=0.7, label='Máxima variância em p=0.5')\n",
    "plt.legend()\n",
    "plt.show()"
   ],
   "outputs": []
  }
 ],
 "metadata": {
  "kernelspec": {
   "display_name": "Python 3",
   "language": "python",
   "name": "python3"
  },
  "language_info": {
   "codemirror_mode": {
    "name": "ipython",
    "version": 3
   },
   "file_extension": ".py",
   "mimetype": "text/x-python",
   "name": "python",
   "nbconvert_exporter": "python",
   "pygments_lexer": "ipython3",
   "version": "3.8.5"
  }
 },
 "nbformat": 4,
 "nbformat_minor": 4
}