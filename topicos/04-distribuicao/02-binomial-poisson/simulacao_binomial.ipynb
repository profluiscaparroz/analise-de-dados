{
  "nbformat": 4,
  "nbformat_minor": 0,
  "metadata": {
    "colab": {
      "provenance": []
    },
    "kernelspec": {
      "name": "python3",
      "display_name": "Python 3"
    },
    "language_info": {
      "name": "python"
    }
  },
  "cells": [
    {
      "cell_type": "markdown",
      "source": [
        "# Simulação da Distribuição Binomial\n",
        "\n",
        "Este notebook apresenta simulações práticas e interativas da **Distribuição Binomial**, permitindo que você experimente e visualize os conceitos em ação."
      ],
      "metadata": {
        "id": "binomial-title"
      }
    },
    {
      "cell_type": "markdown",
      "source": [
        "## 📚 Revisão Teórica\n",
        "\n",
        "A **distribuição binomial** modela situações onde:\n",
        "- Realizamos **n** experimentos independentes\n",
        "- Cada experimento tem apenas **2 resultados possíveis** (sucesso ou fracasso)\n",
        "- A **probabilidade de sucesso** é constante (**p**) em todos os experimentos\n",
        "- Queremos calcular a probabilidade de obter exatamente **k** sucessos\n",
        "\n",
        "### Fórmula:\n",
        "$$P(X = k) = \\binom{n}{k} \\cdot p^k \\cdot (1-p)^{n-k}$$\n",
        "\n",
        "### Propriedades:\n",
        "- **Média**: $E[X] = n \\cdot p$\n",
        "- **Variância**: $Var(X) = n \\cdot p \\cdot (1-p)$\n",
        "- **Desvio Padrão**: $\\sigma = \\sqrt{n \\cdot p \\cdot (1-p)}$"
      ],
      "metadata": {
        "id": "binomial-theory"
      }
    },
    {
      "cell_type": "markdown",
      "source": [
        "## 🛠️ Importando as Bibliotecas"
      ],
      "metadata": {
        "id": "binomial-imports-header"
      }
    },
    {
      "cell_type": "code",
      "source": [
        "# Importação das bibliotecas necessárias\n",
        "import numpy as np\n",
        "import matplotlib.pyplot as plt\n",
        "import seaborn as sns\n",
        "from scipy import stats\n",
        "from scipy.stats import binom\n",
        "import pandas as pd\n",
        "\n",
        "# Configuração dos gráficos\n",
        "plt.style.use('seaborn-v0_8')\n",
        "sns.set_palette(\"husl\")\n",
        "\n",
        "print(\"✅ Bibliotecas importadas com sucesso!\")"
      ],
      "metadata": {
        "id": "binomial-imports"
      },
      "execution_count": null,
      "outputs": []
    },
    {
      "cell_type": "markdown",
      "source": [
        "## 🎯 Exemplo 1: Simulando Lançamentos de Moeda\n",
        "\n",
        "Vamos começar com um exemplo clássico: **lançar uma moeda 10 vezes** e contar quantas vezes sai \"cara\".\n",
        "\n",
        "- **n = 10** (número de lançamentos)\n",
        "- **p = 0.5** (probabilidade de \"cara\")\n",
        "- **k** pode variar de 0 a 10 (número de \"caras\")"
      ],
      "metadata": {
        "id": "binomial-example1-header"
      }
    },
    {
      "cell_type": "code",
      "source": [
        "# Parâmetros do exemplo\n",
        "n = 10  # número de lançamentos\n",
        "p = 0.5  # probabilidade de cara\n",
        "\n",
        "# Valores possíveis de k (sucessos)\n",
        "k_valores = np.arange(0, n + 1)\n",
        "\n",
        "# Calculando as probabilidades para cada valor de k\n",
        "probabilidades = binom.pmf(k_valores, n, p)\n",
        "\n",
        "# Propriedades teóricas\n",
        "media_teorica = n * p\n",
        "variancia_teorica = n * p * (1 - p)\n",
        "desvio_teorico = np.sqrt(variancia_teorica)\n",
        "\n",
        "print(f\"📊 Propriedades Teóricas:\")\n",
        "print(f\"   Média: {media_teorica:.2f} caras\")\n",
        "print(f\"   Variância: {variancia_teorica:.2f}\")\n",
        "print(f\"   Desvio Padrão: {desvio_teorico:.2f}\")\n",
        "print()\n",
        "print(f\"📈 Probabilidades:\")\n",
        "for i, prob in enumerate(probabilidades):\n",
        "    print(f\"   P(X = {i:2d}) = {prob:.4f} ({prob*100:5.2f}%)\")"
      ],
      "metadata": {
        "id": "binomial-example1-calc"
      },
      "execution_count": null,
      "outputs": []
    },
    {
      "cell_type": "code",
      "source": [
        "# Visualização da distribuição\n",
        "plt.figure(figsize=(12, 6))\n",
        "\n",
        "# Gráfico de barras\n",
        "plt.subplot(1, 2, 1)\n",
        "plt.bar(k_valores, probabilidades, alpha=0.8, color='skyblue', edgecolor='navy')\n",
        "plt.axvline(media_teorica, color='red', linestyle='--', linewidth=2, label=f'Média = {media_teorica:.1f}')\n",
        "plt.xlabel('Número de Caras (k)')\n",
        "plt.ylabel('Probabilidade P(X = k)')\n",
        "plt.title('Distribuição Binomial (n=10, p=0.5)\\nLançamento de Moedas')\n",
        "plt.legend()\n",
        "plt.grid(True, alpha=0.3)\n",
        "\n",
        "# Gráfico de probabilidades acumuladas\n",
        "plt.subplot(1, 2, 2)\n",
        "prob_acumuladas = binom.cdf(k_valores, n, p)\n",
        "plt.plot(k_valores, prob_acumuladas, 'o-', color='orange', linewidth=2, markersize=6)\n",
        "plt.xlabel('Número de Caras (k)')\n",
        "plt.ylabel('Probabilidade Acumulada P(X ≤ k)')\n",
        "plt.title('Função de Distribuição Acumulada')\n",
        "plt.grid(True, alpha=0.3)\n",
        "\n",
        "plt.tight_layout()\n",
        "plt.show()"
      ],
      "metadata": {
        "id": "binomial-example1-plot"
      },
      "execution_count": null,
      "outputs": []
    },
    {
      "cell_type": "markdown",
      "source": [
        "## 🧪 Exemplo 2: Simulação com Dados Reais\n",
        "\n",
        "Agora vamos **simular** o experimento 1000 vezes e comparar com a teoria:"
      ],
      "metadata": {
        "id": "binomial-example2-header"
      }
    },
    {
      "cell_type": "code",
      "source": [
        "# Simulação: realizar o experimento 1000 vezes\n",
        "num_simulacoes = 1000\n",
        "np.random.seed(42)  # Para reprodutibilidade\n",
        "\n",
        "# Gerando dados simulados\n",
        "resultados_simulados = binom.rvs(n, p, size=num_simulacoes)\n",
        "\n",
        "# Estatísticas da simulação\n",
        "media_simulada = np.mean(resultados_simulados)\n",
        "desvio_simulado = np.std(resultados_simulados)\n",
        "variancia_simulada = np.var(resultados_simulados)\n",
        "\n",
        "print(f\"🔬 Resultados da Simulação ({num_simulacoes} experimentos):\")\n",
        "print(f\"   Média Simulada: {media_simulada:.2f} caras\")\n",
        "print(f\"   Desvio Simulado: {desvio_simulado:.2f}\")\n",
        "print(f\"   Variância Simulada: {variancia_simulada:.2f}\")\n",
        "print()\n",
        "print(f\"📊 Comparação Teoria vs Simulação:\")\n",
        "print(f\"   Média - Teoria: {media_teorica:.2f} | Simulação: {media_simulada:.2f} | Diferença: {abs(media_teorica - media_simulada):.2f}\")\n",
        "print(f\"   Desvio - Teoria: {desvio_teorico:.2f} | Simulação: {desvio_simulado:.2f} | Diferença: {abs(desvio_teorico - desvio_simulado):.2f}\")"
      ],
      "metadata": {
        "id": "binomial-example2-sim"
      },
      "execution_count": null,
      "outputs": []
    },
    {
      "cell_type": "code",
      "source": [
        "# Comparação visual: Teoria vs Simulação\n",
        "plt.figure(figsize=(14, 6))\n",
        "\n",
        "# Histograma dos resultados simulados vs teoria\n",
        "plt.subplot(1, 2, 1)\n",
        "frequencias_sim, _, _ = plt.hist(resultados_simulados, bins=np.arange(-0.5, n+1.5, 1), \n",
        "                                 alpha=0.7, color='lightgreen', density=True, \n",
        "                                 label='Simulação', edgecolor='black')\n",
        "plt.bar(k_valores, probabilidades, alpha=0.6, color='red', \n",
        "        label='Teoria', width=0.8)\n",
        "plt.xlabel('Número de Caras (k)')\n",
        "plt.ylabel('Probabilidade')\n",
        "plt.title('Comparação: Teoria vs Simulação')\n",
        "plt.legend()\n",
        "plt.grid(True, alpha=0.3)\n",
        "\n",
        "# Convergência das médias\n",
        "plt.subplot(1, 2, 2)\n",
        "medias_acumuladas = np.cumsum(resultados_simulados) / np.arange(1, num_simulacoes + 1)\n",
        "plt.plot(range(1, num_simulacoes + 1), medias_acumuladas, color='blue', alpha=0.7)\n",
        "plt.axhline(media_teorica, color='red', linestyle='--', linewidth=2, label=f'Média Teórica = {media_teorica}')\n",
        "plt.xlabel('Número de Simulações')\n",
        "plt.ylabel('Média Acumulada')\n",
        "plt.title('Convergência para a Média Teórica\\n(Lei dos Grandes Números)')\n",
        "plt.legend()\n",
        "plt.grid(True, alpha=0.3)\n",
        "\n",
        "plt.tight_layout()\n",
        "plt.show()"
      ],
      "metadata": {
        "id": "binomial-example2-plot"
      },
      "execution_count": null,
      "outputs": []
    },
    {
      "cell_type": "markdown",
      "source": [
        "## 🎲 Exemplo 3: Efeito dos Parâmetros n e p\n",
        "\n",
        "Vamos explorar como diferentes valores de **n** (número de tentativas) e **p** (probabilidade de sucesso) afetam a forma da distribuição:"
      ],
      "metadata": {
        "id": "binomial-example3-header"
      }
    },
    {
      "cell_type": "code",
      "source": [
        "# Configurações para comparação\n",
        "configs = [\n",
        "    {'n': 10, 'p': 0.1, 'label': 'n=10, p=0.1', 'color': 'blue'},\n",
        "    {'n': 10, 'p': 0.5, 'label': 'n=10, p=0.5', 'color': 'green'},\n",
        "    {'n': 10, 'p': 0.8, 'label': 'n=10, p=0.8', 'color': 'red'},\n",
        "    {'n': 30, 'p': 0.2, 'label': 'n=30, p=0.2', 'color': 'orange'},\n",
        "]\n",
        "\n",
        "plt.figure(figsize=(15, 10))\n",
        "\n",
        "for i, config in enumerate(configs):\n",
        "    n_conf = config['n']\n",
        "    p_conf = config['p']\n",
        "    \n",
        "    # Valores de k possíveis\n",
        "    k_vals = np.arange(0, n_conf + 1)\n",
        "    \n",
        "    # Probabilidades\n",
        "    probs = binom.pmf(k_vals, n_conf, p_conf)\n",
        "    \n",
        "    # Propriedades\n",
        "    media = n_conf * p_conf\n",
        "    desvio = np.sqrt(n_conf * p_conf * (1 - p_conf))\n",
        "    \n",
        "    # Subplot para cada configuração\n",
        "    plt.subplot(2, 2, i + 1)\n",
        "    plt.bar(k_vals, probs, alpha=0.7, color=config['color'], edgecolor='black')\n",
        "    plt.axvline(media, color='red', linestyle='--', linewidth=2, \n",
        "                label=f'μ={media:.1f}, σ={desvio:.1f}')\n",
        "    plt.xlabel('Número de Sucessos (k)')\n",
        "    plt.ylabel('Probabilidade')\n",
        "    plt.title(f'Distribuição Binomial\\n{config[\"label\"]}')\n",
        "    plt.legend()\n",
        "    plt.grid(True, alpha=0.3)\n",
        "    \n",
        "    # Limitar eixo x para melhor visualização\n",
        "    if n_conf > 20:\n",
        "        plt.xlim(max(0, media - 3*desvio), min(n_conf, media + 3*desvio))\n",
        "\n",
        "plt.tight_layout()\n",
        "plt.show()"
      ],
      "metadata": {
        "id": "binomial-example3-params"
      },
      "execution_count": null,
      "outputs": []
    },
    {
      "cell_type": "markdown",
      "source": [
        "## 🏭 Exemplo 4: Aplicação Prática - Controle de Qualidade\n",
        "\n",
        "**Cenário**: Uma fábrica produz componentes eletrônicos. Sabemos que 5% dos componentes são defeituosos. Em um lote de 20 componentes, qual a probabilidade de encontrar exatamente 2 defeituosos?"
      ],
      "metadata": {
        "id": "binomial-example4-header"
      }
    },
    {
      "cell_type": "code",
      "source": [
        "# Parâmetros do problema\n",
        "n_componentes = 20\n",
        "p_defeituoso = 0.05\n",
        "k_defeituosos = 2\n",
        "\n",
        "# Cálculo da probabilidade específica\n",
        "prob_exatos_2 = binom.pmf(k_defeituosos, n_componentes, p_defeituoso)\n",
        "\n",
        "# Probabilidades de interesse para controle de qualidade\n",
        "prob_0_defeituosos = binom.pmf(0, n_componentes, p_defeituoso)\n",
        "prob_1_defeituoso = binom.pmf(1, n_componentes, p_defeituoso)\n",
        "prob_ate_1_defeituoso = binom.cdf(1, n_componentes, p_defeituoso)\n",
        "prob_2_ou_mais = 1 - prob_ate_1_defeituoso\n",
        "\n",
        "print(\"🏭 ANÁLISE DE CONTROLE DE QUALIDADE\")\n",
        "print(\"=\" * 40)\n",
        "print(f\"Lote: {n_componentes} componentes\")\n",
        "print(f\"Taxa de defeito: {p_defeituoso*100}%\")\n",
        "print()\n",
        "print(\"📊 PROBABILIDADES:\")\n",
        "print(f\"   P(exatamente {k_defeituosos} defeituosos) = {prob_exatos_2:.4f} ({prob_exatos_2*100:.2f}%)\")\n",
        "print(f\"   P(nenhum defeituoso) = {prob_0_defeituosos:.4f} ({prob_0_defeituosos*100:.2f}%)\")\n",
        "print(f\"   P(1 defeituoso) = {prob_1_defeituoso:.4f} ({prob_1_defeituoso*100:.2f}%)\")\n",
        "print(f\"   P(até 1 defeituoso) = {prob_ate_1_defeituoso:.4f} ({prob_ate_1_defeituoso*100:.2f}%)\")\n",
        "print(f\"   P(2 ou mais defeituosos) = {prob_2_ou_mais:.4f} ({prob_2_ou_mais*100:.2f}%)\")\n",
        "print()\n",
        "\n",
        "# Média e desvio esperados\n",
        "media_defeituosos = n_componentes * p_defeituoso\n",
        "desvio_defeituosos = np.sqrt(n_componentes * p_defeituoso * (1 - p_defeituoso))\n",
        "\n",
        "print(\"📈 ESTATÍSTICAS ESPERADAS:\")\n",
        "print(f\"   Número médio de defeituosos: {media_defeituosos:.2f}\")\n",
        "print(f\"   Desvio padrão: {desvio_defeituosos:.2f}\")"
      ],
      "metadata": {
        "id": "binomial-example4-calc"
      },
      "execution_count": null,
      "outputs": []
    },
    {
      "cell_type": "code",
      "source": [
        "# Visualização da distribuição para o problema de controle de qualidade\n",
        "k_vals_cq = np.arange(0, 8)  # Focar nos valores mais prováveis\n",
        "probs_cq = binom.pmf(k_vals_cq, n_componentes, p_defeituoso)\n",
        "\n",
        "plt.figure(figsize=(12, 6))\n",
        "\n",
        "# Gráfico principal\n",
        "plt.subplot(1, 2, 1)\n",
        "cores = ['lightgreen' if k <= 1 else 'orange' if k == 2 else 'red' for k in k_vals_cq]\n",
        "bars = plt.bar(k_vals_cq, probs_cq, alpha=0.8, color=cores, edgecolor='black')\n",
        "\n",
        "# Destacar a barra de k=2\n",
        "bars[2].set_color('gold')\n",
        "bars[2].set_edgecolor('red')\n",
        "bars[2].set_linewidth(3)\n",
        "\n",
        "plt.axvline(media_defeituosos, color='red', linestyle='--', linewidth=2, \n",
        "            label=f'Média = {media_defeituosos:.1f}')\n",
        "plt.xlabel('Número de Componentes Defeituosos')\n",
        "plt.ylabel('Probabilidade')\n",
        "plt.title('Controle de Qualidade - Distribuição Binomial\\n(n=20, p=0.05)')\n",
        "plt.legend()\n",
        "plt.grid(True, alpha=0.3)\n",
        "\n",
        "# Adicionar anotações\n",
        "plt.annotate(f'P(X=2) = {prob_exatos_2:.3f}', \n",
        "            xy=(2, prob_exatos_2), xytext=(4, prob_exatos_2 + 0.05),\n",
        "            arrowprops=dict(arrowstyle='->', color='red'),\n",
        "            fontsize=12, fontweight='bold')\n",
        "\n",
        "# Simulação para verificação\n",
        "plt.subplot(1, 2, 2)\n",
        "simulacao_cq = binom.rvs(n_componentes, p_defeituoso, size=5000)\n",
        "plt.hist(simulacao_cq, bins=np.arange(-0.5, 8.5, 1), alpha=0.7, \n",
        "         density=True, color='lightblue', edgecolor='black', label='Simulação')\n",
        "plt.bar(k_vals_cq, probs_cq, alpha=0.6, color='red', width=0.6, label='Teoria')\n",
        "plt.xlabel('Número de Componentes Defeituosos')\n",
        "plt.ylabel('Probabilidade')\n",
        "plt.title('Verificação por Simulação\\n(5000 lotes)')\n",
        "plt.legend()\n",
        "plt.grid(True, alpha=0.3)\n",
        "\n",
        "plt.tight_layout()\n",
        "plt.show()\n",
        "\n",
        "# Análise da simulação\n",
        "freq_2_defeituosos = np.sum(simulacao_cq == 2) / len(simulacao_cq)\n",
        "print(f\"\\n🔬 VERIFICAÇÃO POR SIMULAÇÃO:\")\n",
        "print(f\"   Frequência de exatamente 2 defeituosos: {freq_2_defeituosos:.4f} ({freq_2_defeituosos*100:.2f}%)\")\n",
        "print(f\"   Diferença da teoria: {abs(freq_2_defeituosos - prob_exatos_2):.4f}\")"
      ],
      "metadata": {
        "id": "binomial-example4-plot"
      },
      "execution_count": null,
      "outputs": []
    },
    {
      "cell_type": "markdown",
      "source": [
        "## 🎯 Exercício Interativo: Teste seus Conhecimentos\n",
        "\n",
        "Modifique os parâmetros abaixo e observe como a distribuição muda:"
      ],
      "metadata": {
        "id": "binomial-interactive-header"
      }
    },
    {
      "cell_type": "code",
      "source": [
        "# MODIFIQUE ESTES PARÂMETROS E EXECUTE A CÉLULA\n",
        "n_exercicio = 15     # Número de tentativas (0 < n ≤ 50)\n",
        "p_exercicio = 0.3    # Probabilidade de sucesso (0 < p < 1)\n",
        "k_interesse = 5      # Número de sucessos de interesse (0 ≤ k ≤ n)\n",
        "\n",
        "# Validação dos parâmetros\n",
        "if not (0 < n_exercicio <= 50):\n",
        "    print(\"⚠️ ERRO: n deve estar entre 1 e 50\")\n",
        "elif not (0 < p_exercicio < 1):\n",
        "    print(\"⚠️ ERRO: p deve estar entre 0 e 1\")\n",
        "elif not (0 <= k_interesse <= n_exercicio):\n",
        "    print(f\"⚠️ ERRO: k deve estar entre 0 e {n_exercicio}\")\n",
        "else:\n",
        "    # Cálculos\n",
        "    k_vals_ex = np.arange(0, n_exercicio + 1)\n",
        "    probs_ex = binom.pmf(k_vals_ex, n_exercicio, p_exercicio)\n",
        "    \n",
        "    prob_k_interesse = binom.pmf(k_interesse, n_exercicio, p_exercicio)\n",
        "    prob_ate_k = binom.cdf(k_interesse, n_exercicio, p_exercicio)\n",
        "    \n",
        "    media_ex = n_exercicio * p_exercicio\n",
        "    desvio_ex = np.sqrt(n_exercicio * p_exercicio * (1 - p_exercicio))\n",
        "    \n",
        "    # Resultados\n",
        "    print(\"🎯 RESULTADOS DO SEU EXERCÍCIO:\")\n",
        "    print(\"=\" * 35)\n",
        "    print(f\"Parâmetros: n={n_exercicio}, p={p_exercicio}\")\n",
        "    print(f\"Média esperada: {media_ex:.2f}\")\n",
        "    print(f\"Desvio padrão: {desvio_ex:.2f}\")\n",
        "    print()\n",
        "    print(f\"P(X = {k_interesse}) = {prob_k_interesse:.4f} ({prob_k_interesse*100:.2f}%)\")\n",
        "    print(f\"P(X ≤ {k_interesse}) = {prob_ate_k:.4f} ({prob_ate_k*100:.2f}%)\")\n",
        "    print(f\"P(X > {k_interesse}) = {1-prob_ate_k:.4f} ({(1-prob_ate_k)*100:.2f}%)\")\n",
        "    \n",
        "    # Gráfico\n",
        "    plt.figure(figsize=(10, 6))\n",
        "    cores_ex = ['gold' if k == k_interesse else 'lightblue' for k in k_vals_ex]\n",
        "    plt.bar(k_vals_ex, probs_ex, alpha=0.8, color=cores_ex, edgecolor='navy')\n",
        "    plt.axvline(media_ex, color='red', linestyle='--', linewidth=2, \n",
        "                label=f'Média = {media_ex:.1f}')\n",
        "    \n",
        "    # Destacar k de interesse\n",
        "    plt.annotate(f'P(X={k_interesse})\\n= {prob_k_interesse:.3f}', \n",
        "                xy=(k_interesse, prob_k_interesse), \n",
        "                xytext=(k_interesse + n_exercicio*0.15, prob_k_interesse + max(probs_ex)*0.2),\n",
        "                arrowprops=dict(arrowstyle='->', color='red', lw=2),\n",
        "                fontsize=11, fontweight='bold',\n",
        "                bbox=dict(boxstyle=\"round,pad=0.3\", facecolor='yellow', alpha=0.8))\n",
        "    \n",
        "    plt.xlabel('Número de Sucessos (k)')\n",
        "    plt.ylabel('Probabilidade')\n",
        "    plt.title(f'Distribuição Binomial - Seu Exercício\\nn={n_exercicio}, p={p_exercicio}')\n",
        "    plt.legend()\n",
        "    plt.grid(True, alpha=0.3)\n",
        "    plt.show()"
      ],
      "metadata": {
        "id": "binomial-interactive"
      },
      "execution_count": null,
      "outputs": []
    },
    {
      "cell_type": "markdown",
      "source": [
        "## 📝 Resumo e Conclusões\n",
        "\n",
        "### ✅ O que aprendemos:\n",
        "\n",
        "1. **Conceito**: A distribuição binomial modela experimentos com resultados binários repetidos\n",
        "2. **Parâmetros**: n (tentativas) e p (probabilidade de sucesso)\n",
        "3. **Propriedades**: Média = np, Variância = np(1-p)\n",
        "4. **Aplicações**: Controle de qualidade, pesquisas, jogos, etc.\n",
        "5. **Simulação**: A Lei dos Grandes Números confirma a teoria\n",
        "\n",
        "### 🔍 Observações importantes:\n",
        "\n",
        "- Quando **p = 0.5**, a distribuição é **simétrica**\n",
        "- Quando **p < 0.5**, a distribuição é **assimétrica à direita**\n",
        "- Quando **p > 0.5**, a distribuição é **assimétrica à esquerda**\n",
        "- Quanto **maior n**, mais a distribuição se aproxima da **normal** (Teorema Central do Limite)\n",
        "\n",
        "### 💡 Dicas práticas:\n",
        "\n",
        "- Use a distribuição binomial quando tiver **experimentos independentes** com **dois resultados**\n",
        "- Verifique sempre se a **probabilidade é constante** em todas as tentativas\n",
        "- Para **n grande** e **p próximo de 0.5**, considere aproximar pela distribuição normal\n",
        "- Para **n grande** e **p pequeno**, considere usar a distribuição de Poisson"
      ],
      "metadata": {
        "id": "binomial-summary"
      }
    }
  ]
}