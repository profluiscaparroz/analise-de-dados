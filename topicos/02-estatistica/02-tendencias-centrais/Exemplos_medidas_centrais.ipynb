{
  "nbformat": 4,
  "nbformat_minor": 0,
  "metadata": {
    "colab": {
      "provenance": [],
      "toc_visible": true
    },
    "kernelspec": {
      "name": "python3",
      "display_name": "Python 3"
    },
    "language_info": {
      "name": "python"
    }
  },
  "cells": [
    {
      "cell_type": "markdown",
      "source": [
        "# Tendências de Medidas Estatísticas: Conceitos e Aplicações"
      ],
      "metadata": {
        "id": "wtG-nxnwOk0F"
      }
    },
    {
      "cell_type": "markdown",
      "source": [
        "A estatística desempenha um papel fundamental na análise e interpretação de dados, sendo amplamente utilizada em diversas áreas do conhecimento. Dentre as principais ferramentas estatísticas, destacam-se as medidas de tendência central, que permitem resumir um conjunto de dados em um único valor representativo. Essas medidas incluem a **média aritmética**, a **mediana** e a **moda**, cada uma com suas características e aplicações específicas."
      ],
      "metadata": {
        "id": "Z2sWE7E_OqC9"
      }
    },
    {
      "cell_type": "markdown",
      "source": [
        "## 1. Média Aritmética\n",
        "\n",
        "\n"
      ],
      "metadata": {
        "id": "n_9ilXmKOxFZ"
      }
    },
    {
      "cell_type": "markdown",
      "source": [
        "A média aritmética é uma das medidas de tendência central mais utilizadas na estatística e desempenha um papel fundamental na análise de dados. Seu cálculo é simples e permite resumir um conjunto de valores em um único número representativo. No entanto, sua interpretação correta requer compreensão de suas propriedades, limitações e aplicações práticas em diferentes contextos.\n",
        "\n",
        "A média aritmética de um conjunto de $n$ valores é calculada somando-se todos os valores e dividindo pelo número total de observações. A fórmula matemática é dada por:\n",
        "\n",
        "$\\bar{x} = \\frac{\\sum_{i=1}^{n} x_i}{n}$\n",
        "\n",
        "onde:\n",
        "- $\\bar{x}$ representa a média aritmética;\n",
        "- $x_i$ são os valores individuais do conjunto de dados;\n",
        "- $n$ é o número total de observações.\n",
        "\n",
        "A média é amplamente utilizada devido à sua simplicidade e facilidade de cálculo. Ela fornece um valor representativo do conjunto de dados, sendo especialmente útil em distribuições simétricas."
      ],
      "metadata": {
        "id": "_n5FRHe3O1kJ"
      }
    },
    {
      "cell_type": "code",
      "execution_count": 1,
      "metadata": {
        "colab": {
          "base_uri": "https://localhost:8080/"
        },
        "id": "ggTjSEM0OiTR",
        "outputId": "4a30bae4-a286-4941-f552-17413018d9e6"
      },
      "outputs": [
        {
          "output_type": "stream",
          "name": "stdout",
          "text": [
            "A média aritmética dos números é: 20.00\n"
          ]
        }
      ],
      "source": [
        "# Lista de números\n",
        "numeros = [10, 15, 20, 25, 30]\n",
        "\n",
        "# Calculando a média aritmética\n",
        "media = sum(numeros) / len(numeros)\n",
        "\n",
        "# Exibindo o resultado\n",
        "print(f\"A média aritmética dos números é: {media:.2f}\")\n"
      ]
    },
    {
      "cell_type": "markdown",
      "source": [
        "### Exemplo com pandas"
      ],
      "metadata": {
        "id": "Iwq4fePgPFfR"
      }
    },
    {
      "cell_type": "code",
      "source": [
        "import pandas as pd\n",
        "\n",
        "# Criando um DataFrame\n",
        "dados = {'Notas': [80, 90, 85, 70, 95]}\n",
        "df = pd.DataFrame(dados)\n",
        "\n",
        "# Calculando a média da coluna \"Notas\"\n",
        "media = df['Notas'].mean()\n",
        "\n",
        "print(f\"A média das notas é: {media:.2f}\")\n"
      ],
      "metadata": {
        "colab": {
          "base_uri": "https://localhost:8080/"
        },
        "id": "-vNlc04_PA5y",
        "outputId": "5e2f35e7-2c94-4fa5-af3d-78eba14ff7f1"
      },
      "execution_count": 2,
      "outputs": [
        {
          "output_type": "stream",
          "name": "stdout",
          "text": [
            "A média das notas é: 84.00\n"
          ]
        }
      ]
    },
    {
      "cell_type": "markdown",
      "source": [
        "## 2. Exemplo de Mediana em Python\n",
        "\n",
        "A mediana é uma medida estatística de tendência central que representa o valor central de um conjunto de dados ordenado. Se o número de elementos for ímpar, a mediana é o valor central; se for par, é a média dos dois valores centrais."
      ],
      "metadata": {
        "id": "lcbcp3xvPPqW"
      }
    },
    {
      "cell_type": "markdown",
      "source": [
        "### Cálculo da Mediana Passo a Passo\n",
        "\n",
        "Vamos calcular a mediana de um conjunto de números em Python usando diferentes abordagens.\n",
        "\n",
        "1. Usando a Função median() do Módulo statistics\n",
        "A maneira mais fácil de calcular a mediana é usando a função median() da biblioteca statistics."
      ],
      "metadata": {
        "id": "wWZ_NgmkPV0o"
      }
    },
    {
      "cell_type": "code",
      "source": [
        "import statistics\n",
        "\n",
        "# Conjunto de dados ímpar\n",
        "dados_impar = [3, 1, 9, 5, 7]\n",
        "mediana_impar = statistics.median(dados_impar)\n",
        "\n",
        "# Conjunto de dados par\n",
        "dados_par = [3, 1, 9, 5, 7, 6]\n",
        "mediana_par = statistics.median(dados_par)\n",
        "\n",
        "print(f\"Mediana (conjunto ímpar): {mediana_impar}\")  # Deve ser 5\n",
        "print(f\"Mediana (conjunto par): {mediana_par}\")  # Média entre 5 e 6 → 5.5\n"
      ],
      "metadata": {
        "colab": {
          "base_uri": "https://localhost:8080/"
        },
        "id": "YUyZ7dAyPE6R",
        "outputId": "82bb8c1f-bbf7-4be3-9172-0b6d3fa8a8da"
      },
      "execution_count": 3,
      "outputs": [
        {
          "output_type": "stream",
          "name": "stdout",
          "text": [
            "Mediana (conjunto ímpar): 5\n",
            "Mediana (conjunto par): 5.5\n"
          ]
        }
      ]
    },
    {
      "cell_type": "markdown",
      "source": [
        "### Calcular a mediana manualmente"
      ],
      "metadata": {
        "id": "n69JSb14PcoW"
      }
    },
    {
      "cell_type": "code",
      "source": [
        "def calcular_mediana(lista):\n",
        "    lista_ordenada = sorted(lista)\n",
        "    n = len(lista_ordenada)\n",
        "    meio = n // 2  # Posição central\n",
        "\n",
        "    if n % 2 == 1:  # Ímpar\n",
        "        return lista_ordenada[meio]\n",
        "    else:  # Par\n",
        "        return (lista_ordenada[meio - 1] + lista_ordenada[meio]) / 2\n",
        "\n",
        "# Testando a função\n",
        "print(f\"Mediana (manual - ímpar): {calcular_mediana(dados_impar)}\")\n",
        "print(f\"Mediana (manual - par): {calcular_mediana(dados_par)}\")\n"
      ],
      "metadata": {
        "colab": {
          "base_uri": "https://localhost:8080/"
        },
        "id": "Y4AVkMgFPZwo",
        "outputId": "38ca706e-fbb2-45f1-c765-6e32a4407a30"
      },
      "execution_count": 4,
      "outputs": [
        {
          "output_type": "stream",
          "name": "stdout",
          "text": [
            "Mediana (manual - ímpar): 5\n",
            "Mediana (manual - par): 5.5\n"
          ]
        }
      ]
    },
    {
      "cell_type": "markdown",
      "source": [
        "### Calculando a Mediana de um DataFrame Pandas\n",
        "\n",
        "Se estivermos lidando com grandes volumes de dados, o pandas é ideal."
      ],
      "metadata": {
        "id": "IO4BCCK1Pizv"
      }
    },
    {
      "cell_type": "code",
      "source": [
        "import pandas as pd\n",
        "\n",
        "# Criando um DataFrame de exemplo\n",
        "df = pd.DataFrame({\n",
        "    'Idade': [23, 25, 29, 30, 31, 32, 35, 40, 45, 50],\n",
        "    'Salário': [2500, 2800, 3200, 4000, 5000, 6000, 7200, 8500, 9000, 12000]\n",
        "})\n",
        "\n",
        "# Calculando a mediana para cada coluna\n",
        "mediana_idade = df['Idade'].median()\n",
        "mediana_salario = df['Salário'].median()\n",
        "\n",
        "print(f\"Mediana da Idade: {mediana_idade}\")  # 31.5\n",
        "print(f\"Mediana do Salário: {mediana_salario}\")  # 4500.0\n"
      ],
      "metadata": {
        "colab": {
          "base_uri": "https://localhost:8080/"
        },
        "id": "Arz2-L8FPcUY",
        "outputId": "89416616-3be3-4056-fcbe-16fb41a1b438"
      },
      "execution_count": 5,
      "outputs": [
        {
          "output_type": "stream",
          "name": "stdout",
          "text": [
            "Mediana da Idade: 31.5\n",
            "Mediana do Salário: 5500.0\n"
          ]
        }
      ]
    },
    {
      "cell_type": "markdown",
      "source": [
        "### Visualizando a mediana com um Boxplot"
      ],
      "metadata": {
        "id": "SQQB9kFTPmxK"
      }
    },
    {
      "cell_type": "code",
      "source": [
        "import seaborn as sns\n",
        "import matplotlib.pyplot as plt\n",
        "\n",
        "# Criando o boxplot\n",
        "plt.figure(figsize=(6, 4))\n",
        "sns.boxplot(data=df, y='Salário')\n",
        "plt.title(\"Boxplot do Salário\")\n",
        "plt.show()\n"
      ],
      "metadata": {
        "colab": {
          "base_uri": "https://localhost:8080/",
          "height": 372
        },
        "id": "jq8A6-RcPhSk",
        "outputId": "36b18e6c-f730-4160-dc55-537a082efd6e"
      },
      "execution_count": 6,
      "outputs": [
        {
          "output_type": "display_data",
          "data": {
            "text/plain": [
              "<Figure size 600x400 with 1 Axes>"
            ],
            "image/png": "[encoded data removed]"
          },
          "metadata": {}
        }
      ]
    },
    {
      "cell_type": "markdown",
      "source": [
        "## 3. Moda em Python\n",
        "\n",
        "A moda é a medida estatística que representa o valor mais frequente em um conjunto de dados. Diferente da média e da mediana, a moda pode ter mais de um valor (moda múltipla) ou não existir se todos os valores forem únicos."
      ],
      "metadata": {
        "id": "wItRiZ9xhB-y"
      }
    },
    {
      "cell_type": "markdown",
      "source": [
        "### Exemplo com a Biblioteca statistics\n",
        "\n",
        "A biblioteca statistics do Python possui a função mode() para encontrar a moda de uma lista de números."
      ],
      "metadata": {
        "id": "7WFOFRbFhMuj"
      }
    },
    {
      "cell_type": "code",
      "source": [
        "import statistics\n",
        "\n",
        "# Lista de números\n",
        "dados = [4, 2, 5, 8, 6, 4, 9, 4, 2, 2]\n",
        "\n",
        "# Calculando a moda\n",
        "moda = statistics.mode(dados)\n",
        "\n",
        "print(f\"A moda dos dados é: {moda}\")\n"
      ],
      "metadata": {
        "colab": {
          "base_uri": "https://localhost:8080/"
        },
        "id": "EpgAB7N9Pq2_",
        "outputId": "3b32adbc-aaa3-4f5f-dc18-2ed99eab91fd"
      },
      "execution_count": 7,
      "outputs": [
        {
          "output_type": "stream",
          "name": "stdout",
          "text": [
            "A moda dos dados é: 4\n"
          ]
        }
      ]
    },
    {
      "cell_type": "markdown",
      "source": [
        "#### Exemplo com multimode() para Modas Múltiplas\n",
        "\n",
        "Se tivermos mais de um valor com a mesma frequência máxima, usamos multimode()."
      ],
      "metadata": {
        "id": "cSBp-hYIhQVa"
      }
    },
    {
      "cell_type": "code",
      "source": [
        "import statistics\n",
        "\n",
        "dados = [1,2,3,4,5,6,6,7,7,9]\n",
        "\n",
        "modas = statistics.multimode(dados)\n",
        "\n",
        "print(f\"As modas dos dados são: {modas}\")"
      ],
      "metadata": {
        "colab": {
          "base_uri": "https://localhost:8080/"
        },
        "id": "5e5v6j-lhJWK",
        "outputId": "244b53d4-ead2-4cd0-94c0-b70bfed05369"
      },
      "execution_count": 8,
      "outputs": [
        {
          "output_type": "stream",
          "name": "stdout",
          "text": [
            "As modas dos dados são: [6, 7]\n"
          ]
        }
      ]
    },
    {
      "cell_type": "markdown",
      "source": [
        "#### Exemplo com scipy.stats para Distribuições Grandes\n",
        "\n",
        "Se estivermos lidando com grandes conjuntos de dados, scipy.stats.mode() é mais eficiente."
      ],
      "metadata": {
        "id": "-gAHZT2UheVX"
      }
    },
    {
      "cell_type": "code",
      "source": [
        "from scipy import stats\n",
        "\n",
        "# Lista de dados\n",
        "dados = [7, 8, 9, 7, 5, 9, 9, 8, 7, 7, 8]\n",
        "\n",
        "# Calculando a moda com scipy\n",
        "moda_scipy = stats.mode(dados)\n",
        "\n",
        "print(f\"A moda é: {moda_scipy.mode}, com frequência: {moda_scipy.count}\")\n"
      ],
      "metadata": {
        "colab": {
          "base_uri": "https://localhost:8080/"
        },
        "id": "rNAAh_TjhbuC",
        "outputId": "560d5bae-17d6-4992-ceb4-be55f100fad4"
      },
      "execution_count": 13,
      "outputs": [
        {
          "output_type": "stream",
          "name": "stdout",
          "text": [
            "A moda é: 7, com frequência: 4\n"
          ]
        }
      ]
    },
    {
      "cell_type": "markdown",
      "source": [
        "#### Exemplo Aplicado: Moda na Análise de Salários\n",
        "\n",
        "Vamos calcular a moda dos salários em um conjunto de dados."
      ],
      "metadata": {
        "id": "SgmbTG57h52O"
      }
    },
    {
      "cell_type": "code",
      "source": [
        "import pandas as pd\n",
        "import statistics\n",
        "\n",
        "# Criando um DataFrame com salários\n",
        "dados = {\n",
        "    \"Funcionário\": [\"Ana\", \"Bruno\", \"Carlos\", \"Daniela\", \"Eduardo\", \"Fernanda\", \"Gustavo\", \"Heloísa\"],\n",
        "    \"Salário\": [3500, 4200, 3500, 5000, 4200, 4200, 3500, 5000]\n",
        "}\n",
        "\n",
        "df = pd.DataFrame(dados)\n",
        "\n",
        "# Calculando a moda dos salários\n",
        "moda_salario = statistics.multimode(df[\"Salário\"])\n",
        "\n",
        "print(f\"A(s) moda(s) dos salários é(são): {moda_salario}\")\n"
      ],
      "metadata": {
        "colab": {
          "base_uri": "https://localhost:8080/"
        },
        "id": "f-RYapx_hhpI",
        "outputId": "ff346b94-8b49-44f4-b69f-6c425b88cbef"
      },
      "execution_count": 14,
      "outputs": [
        {
          "output_type": "stream",
          "name": "stdout",
          "text": [
            "A(s) moda(s) dos salários é(são): [3500, 4200]\n"
          ]
        }
      ]
    },
    {
      "cell_type": "markdown",
      "source": [
        "## 4. Média Geométrica em Python"
      ],
      "metadata": {
        "id": "Fku0e-CpiFHm"
      }
    },
    {
      "cell_type": "markdown",
      "source": [
        "A média geométrica de um conjunto de $n$ valores positivos $x_1, x_2, \\dots, x_n$ é dada por:\n",
        "\n",
        "$G = \\sqrt[n]{x_1 \\cdot x_2 \\cdot \\dots \\cdot x_n}$\n",
        "\n",
        "ou, de forma equivalente,\n",
        "\n",
        "$G = \\left( \\prod_{i=1}^{n} x_i \\right)^{\\frac{1}{n}}$\n",
        "\n",
        "Esta fórmula garante que a média geométrica sempre resultará em um valor menor ou igual à média aritmética, conforme demonstrado pela desigualdade de Minkowski."
      ],
      "metadata": {
        "id": "xWusDxPbiLio"
      }
    },
    {
      "cell_type": "markdown",
      "source": [
        "### Calculando a Média Geométrica em Python (Sem Bibliotecas)"
      ],
      "metadata": {
        "id": "HOHcwLDGidSf"
      }
    },
    {
      "cell_type": "code",
      "source": [
        "import math\n",
        "\n",
        "def media_geometrica(valores):\n",
        "    produto = math.prod(valores)  # Multiplica todos os valores\n",
        "    return produto ** (1 / len(valores))  # Eleva à potência do inverso do tamanho\n",
        "\n",
        "# Exemplo de uso\n",
        "numeros = [2, 4, 8, 16]\n",
        "resultado = media_geometrica(numeros)\n",
        "print(f\"Média Geométrica: {resultado:.2f}\")\n"
      ],
      "metadata": {
        "colab": {
          "base_uri": "https://localhost:8080/"
        },
        "id": "eo1hdAABh0MW",
        "outputId": "c354e6a8-509f-4b05-b18a-9ecd327ead4f"
      },
      "execution_count": 15,
      "outputs": [
        {
          "output_type": "stream",
          "name": "stdout",
          "text": [
            "Média Geométrica: 5.66\n"
          ]
        }
      ]
    },
    {
      "cell_type": "markdown",
      "source": [
        "### Calculando a Média Geométrica com scipy.stats\n",
        "\n",
        "A biblioteca SciPy tem uma função pronta para calcular a média geométrica: gmean()."
      ],
      "metadata": {
        "id": "BgwVHuh1ihV2"
      }
    },
    {
      "cell_type": "code",
      "source": [
        "from scipy.stats import gmean\n",
        "\n",
        "# Lista de números\n",
        "numeros = [2, 4, 8, 16]\n",
        "\n",
        "# Calculando a média geométrica\n",
        "resultado = gmean(numeros)\n",
        "print(f\"Média Geométrica com SciPy: {resultado:.2f}\")\n"
      ],
      "metadata": {
        "colab": {
          "base_uri": "https://localhost:8080/"
        },
        "id": "CZg_ciANibBI",
        "outputId": "b122360b-7fce-4127-9d47-a069aa03b473"
      },
      "execution_count": 16,
      "outputs": [
        {
          "output_type": "stream",
          "name": "stdout",
          "text": [
            "Média Geométrica com SciPy: 5.66\n"
          ]
        }
      ]
    },
    {
      "cell_type": "markdown",
      "source": [
        "### Aplicação Prática: Crescimento Financeiro\n",
        "\n",
        "A média geométrica é muito usada para calcular crescimento percentual médio, por exemplo, em investimentos.\n",
        "\n",
        "📈 Exemplo: Crescimento Anual de um Investimento\n",
        "Imagine que um investimento cresceu da seguinte forma nos últimos 3 anos:\n",
        "\n",
        "Ano 1: +10% (1.10).  \n",
        "Ano 2: +20% (1.20).  \n",
        "Ano 3: -5% (0.95).  \n",
        "Vamos calcular o crescimento médio anual:"
      ],
      "metadata": {
        "id": "Fj7ZIXwWiqYD"
      }
    },
    {
      "cell_type": "code",
      "source": [
        "percentuais = [1.10, 1.20, 0.95]  # Representação dos crescimentos\n",
        "\n",
        "crescimento_medio = gmean(percentuais)\n",
        "crescimento_percentual = (crescimento_medio - 1) * 100  # Convertendo para percentual\n",
        "\n",
        "print(f\"Crescimento médio anual: {crescimento_percentual:.2f}%\")\n"
      ],
      "metadata": {
        "colab": {
          "base_uri": "https://localhost:8080/"
        },
        "id": "XkibjHjzij-L",
        "outputId": "882c7596-3ca3-4caa-90a1-cea157f6558b"
      },
      "execution_count": 17,
      "outputs": [
        {
          "output_type": "stream",
          "name": "stdout",
          "text": [
            "Crescimento médio anual: 7.84%\n"
          ]
        }
      ]
    },
    {
      "cell_type": "markdown",
      "source": [
        "## 5. Média harmônica\n",
        "\n",
        "\n"
      ],
      "metadata": {
        "id": "brvH5EQjjDhX"
      }
    },
    {
      "cell_type": "markdown",
      "source": [
        "A média harmônica é uma medida de tendência central que é particularmente útil para conjuntos de dados em que as quantidades são expressas em taxas ou razões. Diferente da média aritmética e da média geométrica, a média harmônica enfatiza os valores menores da distribuição, sendo amplamente utilizada em áreas como economia, física e estatística aplicada."
      ],
      "metadata": {
        "id": "L81TUzASjGOe"
      }
    },
    {
      "cell_type": "markdown",
      "source": [
        "A média harmônica de um conjunto de $ n $ números positivos $ x_1, x_2, ..., x_n $ é definida como o recíproco da média aritmética dos recíprocos dos valores individuais:\n",
        "\n",
        "$H = \\frac{n}{\\sum_{i=1}^{n} \\frac{1}{x_i}}$\n",
        "\n",
        "Essa expressão mostra que a média harmônica dá mais peso aos valores menores, o que a torna particularmente útil em situações onde a influência dos valores pequenos é mais relevante."
      ],
      "metadata": {
        "id": "ejgsPHlZjI_Q"
      }
    },
    {
      "cell_type": "markdown",
      "source": [
        "### Exemplo 1: Média Harmônica Manualmente\n",
        "\n",
        "Vamos calcular a média harmônica de um conjunto de valores manualmente em Python."
      ],
      "metadata": {
        "id": "gTgCM3jvjZGV"
      }
    },
    {
      "cell_type": "code",
      "source": [
        "def media_harmonica(valores):\n",
        "    n = len(valores)\n",
        "    return n / sum(1 / x for x in valores)\n",
        "\n",
        "# Lista de números\n",
        "dados = [10, 20, 30, 40, 50]\n",
        "\n",
        "# Cálculo da média harmônica\n",
        "resultado = media_harmonica(dados)\n",
        "print(f\"Média Harmônica: {resultado:.2f}\")\n"
      ],
      "metadata": {
        "colab": {
          "base_uri": "https://localhost:8080/"
        },
        "id": "nCC0D-gjiy62",
        "outputId": "44def8d8-4c80-4a19-e8a5-62a74f55a83d"
      },
      "execution_count": 18,
      "outputs": [
        {
          "output_type": "stream",
          "name": "stdout",
          "text": [
            "Média Harmônica: 21.90\n"
          ]
        }
      ]
    },
    {
      "cell_type": "markdown",
      "source": [
        "### Exemplo 2: Média Harmônica com statistics.harmonic_mean\n",
        "\n",
        "O Python já possui uma função embutida para calcular a média harmônica no módulo statistics."
      ],
      "metadata": {
        "id": "RVieBhfhjchm"
      }
    },
    {
      "cell_type": "code",
      "source": [
        "import statistics\n",
        "\n",
        "# Lista de números\n",
        "dados = [10, 20, 30, 40, 50]\n",
        "\n",
        "# Cálculo da média harmônica\n",
        "resultado = statistics.harmonic_mean(dados)\n",
        "print(f\"Média Harmônica: {resultado:.2f}\")\n"
      ],
      "metadata": {
        "colab": {
          "base_uri": "https://localhost:8080/"
        },
        "id": "EqJEVIR8jWxC",
        "outputId": "48a9505c-d0ec-44f4-d2b6-8e58889e0cb2"
      },
      "execution_count": 19,
      "outputs": [
        {
          "output_type": "stream",
          "name": "stdout",
          "text": [
            "Média Harmônica: 21.90\n"
          ]
        }
      ]
    },
    {
      "cell_type": "markdown",
      "source": [
        "### Exemplo 3: Aplicação em Velocidade Média\n",
        "\n",
        "A média harmônica é usada para calcular a velocidade média quando a distância percorrida é a mesma, mas a velocidade varia.\n",
        "\n",
        "🏎️ Problema:\n",
        "Um carro percorre 100 km a 60 km/h na ida e retorna os 100 km a 100 km/h. Qual a velocidade média da viagem?\n",
        "\n",
        "🎯 Resolução com Média Harmônica\n",
        "A velocidade média não é simplesmente a média aritmética (80 km/h). Devemos usar a média harmônica:"
      ],
      "metadata": {
        "id": "i2rghs5IjhVh"
      }
    },
    {
      "cell_type": "code",
      "source": [
        "# Velocidades da ida e volta\n",
        "velocidades = [60, 100]\n",
        "\n",
        "# Cálculo da média harmônica\n",
        "velocidade_media = statistics.harmonic_mean(velocidades)\n",
        "print(f\"Velocidade Média: {velocidade_media:.2f} km/h\")\n"
      ],
      "metadata": {
        "colab": {
          "base_uri": "https://localhost:8080/"
        },
        "id": "X2Pyu3A4jfHs",
        "outputId": "a956eeb5-d8d9-4197-87ab-5c4d6b0e6f94"
      },
      "execution_count": 20,
      "outputs": [
        {
          "output_type": "stream",
          "name": "stdout",
          "text": [
            "Velocidade Média: 75.00 km/h\n"
          ]
        }
      ]
    },
    {
      "cell_type": "code",
      "source": [],
      "metadata": {
        "id": "0CTPTTaWjltb"
      },
      "execution_count": null,
      "outputs": []
    }
  ]
}