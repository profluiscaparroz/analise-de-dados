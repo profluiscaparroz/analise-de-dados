{
  "nbformat": 4,
  "nbformat_minor": 0,
  "metadata": {
    "colab": {
      "provenance": [],
      "toc_visible": true
    },
    "kernelspec": {
      "name": "python3",
      "display_name": "Python 3"
    },
    "language_info": {
      "name": "python"
    }
  },
  "cells": [
    {
      "cell_type": "markdown",
      "source": [
        "# **Medidas Separatrizes: Conceito e Aplicação**  \n",
        "\n",
        "As **medidas separatrizes** são estatísticas que dividem um conjunto ordenado de dados em partes iguais. Essas medidas ajudam a analisar a **distribuição dos dados**, facilitando a interpretação de valores e permitindo comparações entre diferentes grupos ou percentuais da amostra.  \n",
        "\n",
        "Elas são amplamente utilizadas em estatística descritiva e aplicadas em áreas como economia, educação, análise de desempenho e ciência de dados.  \n"
      ],
      "metadata": {
        "id": "0cfdWudLk4uV"
      }
    },
    {
      "cell_type": "markdown",
      "source": [
        "## **1. Tipos de Medidas Separatrizes**  \n",
        "\n",
        "As principais medidas separatrizes são:  \n",
        "\n",
        "1. **Quartis (Qi)** → Dividem os dados em **4 partes** de 25%.  \n",
        "2. **Decis (Di)** → Dividem os dados em **10 partes** de 10%.  \n",
        "3. **Percentis (Pi)** → Dividem os dados em **100 partes** de 1%.  \n",
        "\n",
        "Cada uma dessas medidas determina um valor que separa os dados em frações específicas, permitindo análises como:  \n",
        "- Comparar desempenhos individuais dentro de um grupo.  \n",
        "- Identificar valores extremos (outliers).  \n",
        "- Avaliar a distribuição de um fenômeno (salários, notas, tempos de resposta etc.).  \n",
        "\n"
      ],
      "metadata": {
        "id": "i0cYp-1wlH6k"
      }
    },
    {
      "cell_type": "markdown",
      "source": [
        "### **Fórmula Geral**  \n",
        "\n",
        "Para qualquer medida separatriz, o valor $P_k$ (onde $k$ é o percentil, decil ou quartil desejado) pode ser obtido pela fórmula:\n",
        "\n",
        "$P_k = \\left( \\frac{k}{m} \\right) \\times (n+1)$\n",
        "\n",
        "onde:\n",
        "-$k$ = número da medida separatriz desejada (exemplo: 1º quartil, 3º decil, 90º percentil).  \n",
        "-$m$ = número total de divisões (4 para quartis, 10 para decis, 100 para percentis).  \n",
        "-$n$ = total de elementos no conjunto de dados ordenado.  \n",
        "\n",
        "Se o índice encontrado não for um número inteiro, deve-se **interpolar** entre os valores adjacentes."
      ],
      "metadata": {
        "id": "S922zrrUlON9"
      }
    },
    {
      "cell_type": "markdown",
      "source": [
        "### Exemplo de Cálculo de Medidas Separatrizes em Python\n",
        "\n",
        "Vamos usar o conjunto de dados e calcular as medidas separatrizes."
      ],
      "metadata": {
        "id": "vGmGtuK8nJEw"
      }
    },
    {
      "cell_type": "code",
      "execution_count": 1,
      "metadata": {
        "colab": {
          "base_uri": "https://localhost:8080/"
        },
        "id": "xx9rc6O3kubX",
        "outputId": "272f0eb8-b323-46af-b125-09b2a6f6e3cf"
      },
      "outputs": [
        {
          "output_type": "stream",
          "name": "stdout",
          "text": [
            "Quartis:\n",
            "Q1: 46.25\n",
            "Q2 (Mediana): 77.5\n",
            "Q3: 105.0\n",
            "\n",
            "Decis:\n",
            "D1: 21.5\n",
            "D5: 77.5\n",
            "D9: 129.0\n",
            "\n",
            "Percentis:\n",
            "Percentil 10: 21.5\n",
            "Percentil 50: 77.5\n",
            "Percentil 90: 129.0\n"
          ]
        }
      ],
      "source": [
        "import numpy as np\n",
        "import pandas as pd\n",
        "\n",
        "# Conjunto de dados\n",
        "dados = [10, 20, 35, 50, 60, 75, 80, 90, 100, 120, 130, 150]\n",
        "\n",
        "# Convertendo para um array do NumPy\n",
        "dados_array = np.array(dados)\n",
        "\n",
        "# Calculando as Medidas Separatrizes\n",
        "q1 = np.percentile(dados_array, 25)  # Primeiro quartil\n",
        "q2 = np.percentile(dados_array, 50)  # Mediana (segundo quartil)\n",
        "q3 = np.percentile(dados_array, 75)  # Terceiro quartil\n",
        "\n",
        "# Calculando Decis\n",
        "d1 = np.percentile(dados_array, 10)  # Decil 1\n",
        "d5 = np.percentile(dados_array, 50)  # Decil 5 (Mediana)\n",
        "d9 = np.percentile(dados_array, 90)  # Decil 9\n",
        "\n",
        "# Calculando Percentis\n",
        "p10 = np.percentile(dados_array, 10)  # Percentil 10\n",
        "p50 = np.percentile(dados_array, 50)  # Percentil 50 (mediana)\n",
        "p90 = np.percentile(dados_array, 90)  # Percentil 90\n",
        "\n",
        "# Exibindo os resultados\n",
        "print(\"Quartis:\")\n",
        "print(f\"Q1: {q1}\")\n",
        "print(f\"Q2 (Mediana): {q2}\")\n",
        "print(f\"Q3: {q3}\")\n",
        "\n",
        "print(\"\\nDecis:\")\n",
        "print(f\"D1: {d1}\")\n",
        "print(f\"D5: {d5}\")\n",
        "print(f\"D9: {d9}\")\n",
        "\n",
        "print(\"\\nPercentis:\")\n",
        "print(f\"Percentil 10: {p10}\")\n",
        "print(f\"Percentil 50: {p50}\")\n",
        "print(f\"Percentil 90: {p90}\")"
      ]
    },
    {
      "cell_type": "markdown",
      "source": [
        "### Visualização com Boxplot\n",
        "\n",
        "Uma maneira comum de visualizar essas medidas separatrizes é usar o Boxplot. Vamos criar um boxplot para representar graficamente essas medidas:"
      ],
      "metadata": {
        "id": "hwl_8diQnRzg"
      }
    },
    {
      "cell_type": "code",
      "source": [
        "import seaborn as sns\n",
        "import matplotlib.pyplot as plt\n",
        "\n",
        "# Criando o boxplot\n",
        "plt.figure(figsize=(8, 6))\n",
        "sns.boxplot(data=dados)\n",
        "\n",
        "# Exibindo o título\n",
        "plt.title('Boxplot dos Dados')\n",
        "plt.show()"
      ],
      "metadata": {
        "colab": {
          "base_uri": "https://localhost:8080/",
          "height": 526
        },
        "id": "shZ0dobBnMwt",
        "outputId": "6fe1db07-e170-47e1-cbcf-b3c488c97a7e"
      },
      "execution_count": 2,
      "outputs": [
        {
          "output_type": "display_data",
          "data": {
            "text/plain": [
              "<Figure size 800x600 with 1 Axes>"
            ],
            "image/png": "[encoded data removed]"
          },
          "metadata": {}
        }
      ]
    },
    {
      "cell_type": "code",
      "source": [],
      "metadata": {
        "id": "SWYN3-ZNnVE7"
      },
      "execution_count": null,
      "outputs": []
    },
    {
      "cell_type": "markdown",
      "source": [
        "# Medidas de dispersão\n",
        "\n",
        "As medidas de dispersão são estatísticas descritivas que quantificam o grau de variação ou dispersão de um conjunto de dados em relação à sua tendência central. Enquanto medidas de tendência central, como média, mediana e moda, fornecem um valor representativo dos dados, as medidas de dispersão indicam o quanto os valores individuais diferem desse ponto central. A análise dessas medidas é essencial para compreender a variabilidade dos dados e para comparar diferentes distribuições estatísticas.\n"
      ],
      "metadata": {
        "id": "7BBCWak5ne7U"
      }
    },
    {
      "cell_type": "markdown",
      "source": [
        "## **1. Amplitude**  \n",
        "A **amplitude** é uma das medidas de dispersão mais simples em estatística, sendo utilizada para quantificar a diferença entre o maior e o menor valor de um conjunto de dados. Apesar de sua simplicidade, a amplitude desempenha um papel fundamental na análise exploratória dos dados, permitindo uma **avaliação inicial da variabilidade** dentro de uma distribuição.  \n",
        "\n",
        "$Amplitude = Valor Máximo - Valor Mínimo$\n",
        "\n",
        "---\n"
      ],
      "metadata": {
        "id": "rMNx1ixrnwnt"
      }
    },
    {
      "cell_type": "markdown",
      "source": [
        "\n",
        "### **1. Definição e Cálculo da Amplitude**  \n",
        "\n",
        "A amplitude pode ser definida matematicamente da seguinte forma:  \n",
        "\n",
        "$\\text{Amplitude} = X_{\\max} - X_{\\min}$  \n",
        "\n",
        "onde:  \n",
        "-$X_{\\max}$ representa o maior valor do conjunto de dados.  \n",
        "-$X_{\\min}$ representa o menor valor do conjunto de dados.  \n",
        "\n",
        "A amplitude expressa a **distância total** coberta pelos valores dentro de uma distribuição. Se os dados forem muito dispersos, a amplitude será grande; se forem concentrados, a amplitude será pequena.  "
      ],
      "metadata": {
        "id": "KlHuovk5nze2"
      }
    },
    {
      "cell_type": "code",
      "source": [
        "import numpy as np\n",
        "\n",
        "dados = [5, 8, 12, 14, 17, 21, 24]\n",
        "\n",
        "amplitude = np.ptp(dados)  # ptp retorna a diferença entre max e min\n",
        "\n",
        "print(f\"Amplitude: {amplitude}\")"
      ],
      "metadata": {
        "colab": {
          "base_uri": "https://localhost:8080/"
        },
        "id": "5dLKiTzLnqee",
        "outputId": "8d9fe0f1-8515-4f29-eab9-a0b5680ff431"
      },
      "execution_count": 3,
      "outputs": [
        {
          "output_type": "stream",
          "name": "stdout",
          "text": [
            "Amplitude: 19\n"
          ]
        }
      ]
    },
    {
      "cell_type": "markdown",
      "source": [
        "#### Como Interpretar a Amplitude?\n",
        "\n",
        "A amplitude é uma medida simples e rápida para identificar a variabilidade dos dados. Quanto maior a amplitude, maior a dispersão entre os valores, e isso pode indicar que os dados são mais variados.\n",
        "\n",
        "#### Limitação da Amplitude:\n",
        "Embora a amplitude seja útil, ela é muito sensível a outliers (valores extremos). Se um valor for muito distante dos outros, a amplitude pode dar uma visão distorcida da distribuição dos dados. Para evitar isso, medidas como desvio padrão ou mediana podem ser mais adequadas para dados com outliers."
      ],
      "metadata": {
        "id": "BJvwpVmNojiV"
      }
    },
    {
      "cell_type": "markdown",
      "source": [
        "## **2. Desvio Médio**  \n",
        "\n",
        "O **Desvio Médio** é uma medida de dispersão que indica **o afastamento médio dos valores de um conjunto de dados em relação à sua média aritmética**. Ele expressa, em termos absolutos, o quanto os dados se espalham em torno da média, sendo útil para entender a variabilidade dos dados sem considerar a direção das diferenças.  "
      ],
      "metadata": {
        "id": "JuUsVtVrn8nX"
      }
    },
    {
      "cell_type": "markdown",
      "source": [
        "### **1. Conceito e Definição**  \n",
        "\n",
        "O desvio médio é calculado como a média das diferenças absolutas entre cada valor do conjunto de dados e a média aritmética dos valores. Sua fórmula geral é dada por:  \n",
        "\n",
        "#### **1.1. Para uma População**  \n",
        "\n",
        "$DM = \\frac{\\sum |X_i - \\mu|}{N}$\n",
        "\n",
        "onde:  \n",
        "-$DM$ = Desvio médio  \n",
        "-$X_i$ = Cada valor do conjunto de dados  \n",
        "-$\\mu$ = Média populacional  \n",
        "-$N$ = Número total de elementos da população  \n",
        "\n",
        "#### **1.2. Para uma Amostra**  \n",
        "\n",
        "$DM = \\frac{\\sum |X_i - \\bar{X}|}{n}$\n",
        "\n",
        "onde:  \n",
        "-$\\bar{X}$ = Média amostral  \n",
        "-$n$ = Número de elementos da amostra  \n",
        "\n",
        "O uso da **média aritmética** como referência para medir as diferenças permite entender como os dados se comportam em relação ao valor central.  "
      ],
      "metadata": {
        "id": "dx6qPd6noDsn"
      }
    },
    {
      "cell_type": "markdown",
      "source": [
        "#### Exemplo python"
      ],
      "metadata": {
        "id": "uVnQCKcxoydN"
      }
    },
    {
      "cell_type": "code",
      "source": [
        "import numpy as np\n",
        "\n",
        "# Exemplo de dados\n",
        "dados = [10, 12, 23, 23, 16, 23, 21, 16]\n",
        "\n",
        "# Passo 1: Calcular a média\n",
        "media = np.mean(dados)\n",
        "\n",
        "# Passo 2: Calcular as diferenças absolutas em relação à média\n",
        "diferencas_absolutas = np.abs(dados - media)\n",
        "\n",
        "# Passo 3: Calcular o desvio médio\n",
        "desvio_medio = np.mean(diferencas_absolutas)\n",
        "\n",
        "# Exibir os resultados\n",
        "print(f\"Dados: {dados}\")\n",
        "print(f\"Média: {media}\")\n",
        "print(f\"Diferenças absolutas: {diferencas_absolutas}\")\n",
        "print(f\"Desvio Médio: {desvio_medio}\")\n"
      ],
      "metadata": {
        "colab": {
          "base_uri": "https://localhost:8080/"
        },
        "id": "XZXHSF6-oBIw",
        "outputId": "953f5be4-0fb8-4745-d1ce-3ff265edde03"
      },
      "execution_count": 4,
      "outputs": [
        {
          "output_type": "stream",
          "name": "stdout",
          "text": [
            "Dados: [10, 12, 23, 23, 16, 23, 21, 16]\n",
            "Média: 18.0\n",
            "Diferenças absolutas: [8. 6. 5. 5. 2. 5. 3. 2.]\n",
            "Desvio Médio: 4.5\n"
          ]
        }
      ]
    },
    {
      "cell_type": "markdown",
      "source": [
        "#### **Interpretação:**\n",
        "A média dos dados é 18.5.\n",
        "As diferenças absolutas entre cada valor e a média variam, e o desvio médio é 4.5. Isso significa que, em média, os valores dos dados estão a 4.5 unidades de distância da média."
      ],
      "metadata": {
        "id": "qQj2-j3Uo4q0"
      }
    },
    {
      "cell_type": "markdown",
      "source": [
        "## **3. Variância**  \n",
        "\n",
        "A **variância** é uma medida estatística que expressa a dispersão dos dados em relação à média. Em outras palavras, ela quantifica **o quão distantes os valores estão da média** de um conjunto de dados. Essa medida é fundamental para entender a estabilidade e a confiabilidade de um conjunto de informações, sendo amplamente utilizada em estatística descritiva, inferência estatística, machine learning e diversas áreas aplicadas.  "
      ],
      "metadata": {
        "id": "xgc6XaLUpCjk"
      }
    },
    {
      "cell_type": "markdown",
      "source": [
        "### **1. Conceito de Variância**  \n",
        "\n",
        "A variância mede a média dos **quadrados das diferenças** entre cada valor e a média aritmética do conjunto de dados. Ela é representada pelas seguintes fórmulas:  \n",
        "\n",
        "- **Para uma população inteira** (variância populacional):  \n",
        "\n",
        "$\\sigma^2 = \\frac{\\sum (X_i - \\mu)^2}{N}$\n",
        "\n",
        "- **Para uma amostra** (variância amostral):  \n",
        "\n",
        "$s^2 = \\frac{\\sum (X_i - \\bar{X})^2}{n - 1}$\n",
        "\n",
        "onde:  \n",
        "-$X_i$ representa cada valor do conjunto de dados,  \n",
        "-$\\mu$ é a média populacional,  \n",
        "-$\\bar{X}$ é a média amostral,  \n",
        "-$N$ é o número total de elementos da população,  \n",
        "-$n$ é o número total de elementos da amostra,  \n",
        "-$\\sigma^2$ é a variância populacional,  \n",
        "-$s^2$ é a variância amostral.  \n",
        "\n",
        "A principal diferença entre **variância populacional** e **variância amostral** é o denominador. No caso amostral, subtrai-se **1** do número de elementos (graus de liberdade) para corrigir o viés da estimativa, garantindo que a variância amostral seja uma estimativa não tendenciosa da variância populacional."
      ],
      "metadata": {
        "id": "XTHLGT_WpNkx"
      }
    },
    {
      "cell_type": "markdown",
      "source": [
        "#### Exemplo Prático de Cálculo da Variância em Python\n",
        "\n",
        "Vamos calcular a variância de um conjunto de dados usando Python, primeiro manualmente e depois utilizando funções de bibliotecas como NumPy.\n"
      ],
      "metadata": {
        "id": "bJdf9x_YpekC"
      }
    },
    {
      "cell_type": "code",
      "source": [
        "import numpy as np\n",
        "\n",
        "# Dados de exemplo\n",
        "dados = [12, 15, 14, 10, 18, 16, 19]\n",
        "\n",
        "# Passo 1: Calcular a média (mu ou x_bar)\n",
        "media = np.mean(dados)\n",
        "\n",
        "# Passo 2: Calcular a soma dos quadrados das diferenças em relação à média\n",
        "soma_dos_quadrados = sum([(x - media)**2 for x in dados])\n",
        "\n",
        "# Passo 3: Calcular a variância\n",
        "variancia = soma_dos_quadrados / len(dados)  # Para variância populacional\n",
        "\n",
        "print(f\"Média: {media}\")\n",
        "print(f\"Soma dos quadrados das diferenças: {soma_dos_quadrados}\")\n",
        "print(f\"Variância: {variancia}\")"
      ],
      "metadata": {
        "colab": {
          "base_uri": "https://localhost:8080/"
        },
        "id": "selXH--_oz2v",
        "outputId": "0a91f870-ad0a-4dfb-851a-7434b71857c0"
      },
      "execution_count": 5,
      "outputs": [
        {
          "output_type": "stream",
          "name": "stdout",
          "text": [
            "Média: 14.857142857142858\n",
            "Soma dos quadrados das diferenças: 60.85714285714286\n",
            "Variância: 8.693877551020408\n"
          ]
        }
      ]
    },
    {
      "cell_type": "markdown",
      "source": [
        "### Cálculo Usando NumPy\n",
        "\n",
        "O NumPy fornece funções prontas para calcular a variância de maneira mais eficiente. Vamos usar np.var() para calcular a variância diretamente:"
      ],
      "metadata": {
        "id": "U_eH0tlOpmxG"
      }
    },
    {
      "cell_type": "code",
      "source": [
        "# Calculando a variância com NumPy\n",
        "variancia_numpy = np.var(dados)\n",
        "\n",
        "print(f\"Variância (usando NumPy): {variancia_numpy}\")\n"
      ],
      "metadata": {
        "colab": {
          "base_uri": "https://localhost:8080/"
        },
        "id": "CtoaYBgDpcUC",
        "outputId": "4e068bc7-4dbe-40a2-8691-719945df971e"
      },
      "execution_count": 6,
      "outputs": [
        {
          "output_type": "stream",
          "name": "stdout",
          "text": [
            "Variância (usando NumPy): 8.693877551020408\n"
          ]
        }
      ]
    },
    {
      "cell_type": "code",
      "source": [
        "# Calculando a variância amostral com NumPy\n",
        "variancia_amostral_numpy = np.var(dados, ddof=1)\n",
        "\n",
        "print(f\"Variância Amostral (usando NumPy): {variancia_amostral_numpy}\")\n"
      ],
      "metadata": {
        "colab": {
          "base_uri": "https://localhost:8080/"
        },
        "id": "RVKHp06QppIT",
        "outputId": "ef281998-ed69-48b4-f088-1c981b3533b8"
      },
      "execution_count": 7,
      "outputs": [
        {
          "output_type": "stream",
          "name": "stdout",
          "text": [
            "Variância Amostral (usando NumPy): 10.142857142857144\n"
          ]
        }
      ]
    },
    {
      "cell_type": "markdown",
      "source": [
        "### Visualizando a Variância\n",
        "\n",
        "Para ter uma noção visual da variância, podemos plotar um gráfico de dispersão (scatter plot) mostrando a média e as diferenças em relação a ela."
      ],
      "metadata": {
        "id": "o7yOkck6p3kT"
      }
    },
    {
      "cell_type": "code",
      "source": [
        "import matplotlib.pyplot as plt\n",
        "\n",
        "# Plotando os dados e a média\n",
        "plt.scatter(dados, [0]*len(dados), color='blue', label=\"Dados\")\n",
        "plt.axvline(media, color='red', label=f'Média: {media}')\n",
        "\n",
        "# Adicionando elementos no gráfico\n",
        "plt.title(\"Distribuição dos Dados e Média\")\n",
        "plt.xlabel(\"Valores\")\n",
        "plt.legend()\n",
        "plt.show()\n"
      ],
      "metadata": {
        "colab": {
          "base_uri": "https://localhost:8080/",
          "height": 472
        },
        "id": "9Nc2zeN-pvNU",
        "outputId": "f6e6a83f-b0a2-48a7-dcb4-7a833aff3236"
      },
      "execution_count": 8,
      "outputs": [
        {
          "output_type": "display_data",
          "data": {
            "text/plain": [
              "<Figure size 640x480 with 1 Axes>"
            ],
            "image/png": "[encoded data removed]"
          },
          "metadata": {}
        }
      ]
    },
    {
      "cell_type": "markdown",
      "source": [
        "## **4. Desvio Padrão**  \n",
        "\n",
        "O **desvio padrão** é uma das medidas de dispersão mais importantes da estatística, pois indica o grau de variação ou dispersão dos dados em relação à média. Essa métrica é amplamente utilizada em diversas áreas, como ciência de dados, economia, engenharia, ciências sociais e análise de riscos, pois fornece uma visão quantitativa da estabilidade e previsibilidade de um conjunto de dados.  \n"
      ],
      "metadata": {
        "id": "xSO7bbKzqBvV"
      }
    },
    {
      "cell_type": "markdown",
      "source": [
        "### **1. Definição do Desvio Padrão**  \n",
        "\n",
        "O **desvio padrão** (representado por$\\sigma$ para populações e$s$ para amostras) mede **o quanto os valores de um conjunto de dados se afastam da média**. Ele é definido como a raiz quadrada da variância, permitindo que a dispersão seja expressa na mesma unidade dos dados originais.  \n",
        "\n",
        "A fórmula do desvio padrão **populacional** ($\\sigma$) é:  \n",
        "\n",
        "$\\sigma = \\sqrt{\\frac{\\sum (X_i - \\mu)^2}{N}}$  \n",
        "\n",
        "Onde:  \n",
        "-$X_i$ representa cada valor do conjunto de dados,  \n",
        "-$\\mu$ é a média populacional,  \n",
        "-$N$ é o número total de elementos na população.  \n",
        "\n",
        "Para amostras, o **desvio padrão amostral** ($s$) é calculado com um pequeno ajuste, substituindo$N$ por$n - 1$ (graus de liberdade):  \n",
        "\n",
        "$s = \\sqrt{\\frac{\\sum (X_i - \\bar{X})^2}{n - 1}}$  \n",
        "\n",
        "Esse ajuste é necessário para corrigir a subestimação da variabilidade da população quando usamos uma amostra."
      ],
      "metadata": {
        "id": "IPctOKCwqJK1"
      }
    },
    {
      "cell_type": "markdown",
      "source": [
        "#### Exemplo 1"
      ],
      "metadata": {
        "id": "kpPTNfH2qSmq"
      }
    },
    {
      "cell_type": "code",
      "source": [
        "import numpy as np\n",
        "\n",
        "# Dados de exemplo\n",
        "dados = [10, 12, 23, 23, 16, 23, 21, 17, 18, 20]\n",
        "\n",
        "# Calculando a média\n",
        "media = np.mean(dados)\n",
        "\n",
        "# Calculando o desvio padrão\n",
        "desvio_padrao = np.std(dados)\n",
        "\n",
        "# Exibindo os resultados\n",
        "print(f'Média dos dados: {media}')\n",
        "print(f'Desvio padrão dos dados: {desvio_padrao}')\n"
      ],
      "metadata": {
        "colab": {
          "base_uri": "https://localhost:8080/"
        },
        "id": "43FAcX14pz7e",
        "outputId": "18ed6b27-3183-4e99-ee58-a4542f254569"
      },
      "execution_count": 9,
      "outputs": [
        {
          "output_type": "stream",
          "name": "stdout",
          "text": [
            "Média dos dados: 18.3\n",
            "Desvio padrão dos dados: 4.382921400162226\n"
          ]
        }
      ]
    },
    {
      "cell_type": "markdown",
      "source": [
        "##### Interpretação:\n",
        "**Média**: O valor médio dos dados é 19.3, o que significa que, em média, os dados estão em torno de 19.3.  \n",
        "**Desvio padrão**: O valor de 4.78 indica que os dados variam cerca de 4.78 unidades para cima ou para baixo da média."
      ],
      "metadata": {
        "id": "rwHtIRfiqYgv"
      }
    },
    {
      "cell_type": "markdown",
      "source": [
        "### Exemplo 2: Comparação de Dois Conjuntos de Dados"
      ],
      "metadata": {
        "id": "-gqE2ltzqmGF"
      }
    },
    {
      "cell_type": "code",
      "source": [
        "# Conjunto de dados 1 (mais dispersos)\n",
        "dados_1 = [5, 10, 15, 20, 25]\n",
        "\n",
        "# Conjunto de dados 2 (menos dispersos)\n",
        "dados_2 = [10, 11, 12, 13, 14]\n",
        "\n",
        "# Calculando os desvios padrões\n",
        "desvio_padrao_1 = np.std(dados_1)\n",
        "desvio_padrao_2 = np.std(dados_2)\n",
        "\n",
        "# Exibindo os resultados\n",
        "print(f'Desvio padrão do conjunto 1: {desvio_padrao_1}')\n",
        "print(f'Desvio padrão do conjunto 2: {desvio_padrao_2}')\n"
      ],
      "metadata": {
        "colab": {
          "base_uri": "https://localhost:8080/"
        },
        "id": "gbARWR9FqVRn",
        "outputId": "b98ca0db-8f58-4d23-823e-524205c820d3"
      },
      "execution_count": 10,
      "outputs": [
        {
          "output_type": "stream",
          "name": "stdout",
          "text": [
            "Desvio padrão do conjunto 1: 7.0710678118654755\n",
            "Desvio padrão do conjunto 2: 1.4142135623730951\n"
          ]
        }
      ]
    },
    {
      "cell_type": "markdown",
      "source": [
        "### Exemplo 3: Cálculo Manual do Desvio Padrão"
      ],
      "metadata": {
        "id": "XWeFjLp5qrzh"
      }
    },
    {
      "cell_type": "code",
      "source": [
        "# Dados de exemplo\n",
        "dados = [10, 12, 23, 23, 16, 23, 21, 17, 18, 20]\n",
        "\n",
        "# Calculando a média\n",
        "media = sum(dados) / len(dados)\n",
        "\n",
        "# Calculando a soma dos quadrados das diferenças da média\n",
        "soma_dos_quadrados = sum([(x - media)**2 for x in dados])\n",
        "\n",
        "# Calculando o desvio padrão\n",
        "desvio_padrao_manual = (soma_dos_quadrados / len(dados))**0.5\n",
        "\n",
        "# Exibindo os resultados\n",
        "print(f'Média dos dados: {media}')\n",
        "print(f'Desvio padrão (manual): {desvio_padrao_manual}')\n"
      ],
      "metadata": {
        "colab": {
          "base_uri": "https://localhost:8080/"
        },
        "id": "cn2qcSa5qtTy",
        "outputId": "c176643d-9c1f-49c3-d002-4bcd108b8046"
      },
      "execution_count": 11,
      "outputs": [
        {
          "output_type": "stream",
          "name": "stdout",
          "text": [
            "Média dos dados: 18.3\n",
            "Desvio padrão (manual): 4.382921400162226\n"
          ]
        }
      ]
    },
    {
      "cell_type": "code",
      "source": [],
      "metadata": {
        "id": "30OWsb5zqulu"
      },
      "execution_count": null,
      "outputs": []
    }
  ]
}